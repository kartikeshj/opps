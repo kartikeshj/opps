{
  "nbformat": 4,
  "nbformat_minor": 0,
  "metadata": {
    "colab": {
      "provenance": []
    },
    "kernelspec": {
      "name": "python3",
      "display_name": "Python 3"
    },
    "language_info": {
      "name": "python"
    }
  },
  "cells": [
    {
      "cell_type": "code",
      "execution_count": null,
      "metadata": {
        "id": "BWITF4b9sjA_"
      },
      "outputs": [],
      "source": []
    },
    {
      "cell_type": "markdown",
      "source": [
        "\n",
        "\n",
        "1. What is Object-Oriented Programming (OOP)?\n",
        "OOP is a programming paradigm that organizes software design around objects, which encapsulate data and behavior. It promotes modularity, reusability, and abstraction through four pillars: encapsulation, inheritance, polymorphism, and abstraction.\n",
        "\n",
        "2. What is a class in OOP?\n",
        "A class is a blueprint for creating objects. It defines attributes (data) and methods (functions) that the objects will have.\n",
        "class Car:\n",
        "    def __init__(self, brand):\n",
        "        self.brand = brand\n",
        "\n",
        "    def drive(self):\n",
        "        print(f\"{self.brand} is driving\")\n",
        "\n",
        "\n",
        "\n",
        "3. What is an object in OOP?\n",
        "An object is an instance of a class. It holds actual data and can use the class’s methods.\n",
        "my_car = Car(\"Toyota\")\n",
        "my_car.drive()  # Output: Toyota is driving\n",
        "\n",
        "\n",
        "\n",
        "4. What is the difference between abstraction and encapsulation?\n",
        "- Abstraction hides complexity by exposing only essential features.\n",
        "- Encapsulation hides internal state and behavior by restricting access using access modifiers.\n",
        "Example:\n",
        "class BankAccount:\n",
        "    def __init__(self):\n",
        "        self.__balance = 0  # Encapsulated\n",
        "\n",
        "    def deposit(self, amount):  # Abstracted interface\n",
        "        self.__balance += amount\n",
        "\n",
        "\n",
        "\n",
        "5. What are dunder methods in Python?\n",
        "Dunder methods (double underscore) are special methods like __init__, __str__, __call__, used to define behavior for built-in operations.\n",
        "class Book:\n",
        "    def __str__(self):\n",
        "        return \"Book object\"\n",
        "\n",
        "\n",
        "\n",
        "6. Explain the concept of inheritance in OOP\n",
        "Inheritance allows a class (child) to inherit attributes and methods from another class (parent), promoting code reuse.\n",
        "class Animal:\n",
        "    def speak(self):\n",
        "        print(\"Animal speaks\")\n",
        "\n",
        "class Dog(Animal):\n",
        "    def bark(self):\n",
        "        print(\"Dog barks\")\n",
        "\n",
        "\n",
        "\n",
        "7. What is polymorphism in OOP?\n",
        "Polymorphism means \"many forms\"—the ability to use a unified interface for different data types or classes.\n",
        "class Cat:\n",
        "    def sound(self):\n",
        "        print(\"Meow\")\n",
        "\n",
        "class Dog:\n",
        "    def sound(self):\n",
        "        print(\"Bark\")\n",
        "\n",
        "def make_sound(animal):\n",
        "    animal.sound()\n",
        "\n",
        "\n",
        "\n",
        "8. How is encapsulation achieved in Python?\n",
        "Encapsulation is achieved using private variables (__var) and getter/setter methods.\n",
        "class Person:\n",
        "    def __init__(self):\n",
        "        self.__age = 0\n",
        "\n",
        "    def set_age(self, age):\n",
        "        self.__age = age\n",
        "\n",
        "    def get_age(self):\n",
        "        return self.__age\n",
        "\n",
        "\n",
        "\n",
        "9. What is a constructor in Python?\n",
        "A constructor is the __init__ method that initializes object attributes when an object is created.\n",
        "class User:\n",
        "    def __init__(self, name):\n",
        "        self.name = name\n",
        "\n",
        "\n",
        "\n",
        "10. What are class and static methods in Python?\n",
        "- Class methods use @classmethod and access class-level data via cls.\n",
        "- Static methods use @staticmethod and don’t access class or instance data.\n",
        "class Math:\n",
        "    @classmethod\n",
        "    def identity(cls):\n",
        "        return cls()\n",
        "\n",
        "    @staticmethod\n",
        "    def add(x, y):\n",
        "        return x + y\n",
        "\n",
        "\n",
        "\n",
        "11. What is method overloading in Python?\n",
        "Python doesn’t support traditional method overloading. You simulate it using default arguments or *args.\n",
        "class Demo:\n",
        "    def greet(self, name=None):\n",
        "        if name:\n",
        "            print(f\"Hello {name}\")\n",
        "        else:\n",
        "            print(\"Hello\")\n",
        "\n",
        "\n",
        "\n",
        "12. What is method overriding in OOP?\n",
        "Method overriding occurs when a subclass redefines a method from its parent class.\n",
        "class Parent:\n",
        "    def show(self):\n",
        "        print(\"Parent\")\n",
        "\n",
        "class Child(Parent):\n",
        "    def show(self):\n",
        "        print(\"Child\")\n",
        "\n",
        "\n",
        "\n",
        "13. What is a property decorator in Python?\n",
        "@property allows a method to be accessed like an attribute, enabling controlled access.\n",
        "class Temperature:\n",
        "    def __init__(self, celsius):\n",
        "        self._celsius = celsius\n",
        "\n",
        "    @property\n",
        "    def fahrenheit(self):\n",
        "        return (self._celsius * 9/5) + 32\n",
        "\n",
        "\n",
        "\n",
        "14. Why is polymorphism important in OOP?\n",
        "It enables flexibility and interchangeability in code, allowing different objects to be treated uniformly.\n",
        "\n",
        "15. What is an abstract class in Python?\n",
        "An abstract class defines a template for other classes. It can’t be instantiated and may contain abstract methods.\n",
        "from abc import ABC, abstractmethod\n",
        "\n",
        "class Shape(ABC):\n",
        "    @abstractmethod\n",
        "    def area(self):\n",
        "        pass\n",
        "\n",
        "\n",
        "\n",
        "16. What are the advantages of OOP?\n",
        "- Modularity\n",
        "- Reusability\n",
        "- Scalability\n",
        "- Maintainability\n",
        "- Real-world modeling\n",
        "\n",
        "17. What is multiple inheritance in Python?\n",
        "A class inherits from more than one parent class.\n",
        "class A:\n",
        "    pass\n",
        "\n",
        "class B:\n",
        "    pass\n",
        "\n",
        "class C(A, B):\n",
        "    pass\n",
        "\n",
        "\n",
        "\n",
        "18. What is the difference between a class variable and an instance variable?\n",
        "- Class variable: Shared across all instances.\n",
        "- Instance variable: Unique to each object.\n",
        "class Example:\n",
        "    count = 0  # Class variable\n",
        "\n",
        "    def __init__(self):\n",
        "        self.name = \"\"  # Instance variable\n",
        "\n",
        "\n",
        "\n",
        "19. Explain the purpose of __str__ and __repr__ methods in Python\n",
        "- __str__: User-friendly string representation.\n",
        "- __repr__: Developer-friendly, often used for debugging.\n",
        "class Book:\n",
        "    def __str__(self):\n",
        "        return \"Book Title\"\n",
        "\n",
        "    def __repr__(self):\n",
        "        return \"Book('Title')\"\n",
        "\n",
        "\n",
        "\n",
        "20. What is the significance of the super() function in Python?\n",
        "super() allows access to parent class methods, especially useful in inheritance.\n",
        "class Parent:\n",
        "    def greet(self):\n",
        "        print(\"Hello\")\n",
        "\n",
        "class Child(Parent):\n",
        "    def greet(self):\n",
        "        super().greet()\n",
        "        print(\"Hi from Child\")\n",
        "\n",
        "\n",
        "\n",
        "21. What is the significance of the __del__ method in Python?\n",
        "__del__ is a destructor called when an object is deleted. Use cautiously—it’s not always predictable.\n",
        "class File:\n",
        "    def __del__(self):\n",
        "        print(\"File closed\")\n",
        "\n",
        "\n",
        "\n",
        "22. What is the difference between @staticmethod and @classmethod in Python?\n",
        "- @staticmethod: No access to class or instance.\n",
        "- @classmethod: Access to class via cls.\n",
        "\n",
        "23. How does polymorphism work in Python with inheritance?\n",
        "Child classes override parent methods, and Python dynamically resolves which method to call.\n",
        "class Animal:\n",
        "    def speak(self):\n",
        "        print(\"Generic sound\")\n",
        "\n",
        "class Dog(Animal):\n",
        "    def speak(self):\n",
        "        print(\"Bark\")\n",
        "\n",
        "def make_sound(animal):\n",
        "    animal.speak()\n",
        "\n",
        "\n",
        "\n",
        "24. What is method chaining in Python OOP?\n",
        "Calling multiple methods on the same object in a single line by returning self.\n",
        "class Builder:\n",
        "    def step1(self):\n",
        "        print(\"Step 1\")\n",
        "        return self\n",
        "\n",
        "    def step2(self):\n",
        "        print(\"Step 2\")\n",
        "        return self\n",
        "\n",
        "Builder().step1().step2()\n",
        "\n",
        "\n",
        "\n",
        "25. What is the purpose of the __call__ method in Python?\n",
        "Allows an object to be called like a function.\n",
        "class Greeter:\n",
        "    def __call__(self, name):\n",
        "        print(f\"Hello {name}\")\n",
        "\n",
        "greet = Greeter()\n",
        "greet(\"Kartikesh\")  # Output: Hello Kartikesh\n",
        "\n",
        "\n",
        "\n",
        "\n"
      ],
      "metadata": {
        "id": "t-ZzdSAnsj56"
      }
    },
    {
      "cell_type": "code",
      "source": [],
      "metadata": {
        "id": "-q-KMXlbstT6"
      },
      "execution_count": null,
      "outputs": []
    },
    {
      "cell_type": "markdown",
      "source": [
        " 1. Create a parent class Animal with a method speak() that prints a generic message. Create a child class Dog\n",
        "that overrides the speak() method to print \"Bark!\""
      ],
      "metadata": {
        "id": "47YkbJdssyOG"
      }
    },
    {
      "cell_type": "code",
      "source": [
        "class Animal:\n",
        "    def speak(self):\n",
        "        print(\"Generic sound\")\n",
        "\n",
        "class Dog(Animal):\n",
        "    def speak(self):\n",
        "        print(\"Bark!\")\n",
        "\n",
        "my_dog = Dog()\n",
        "my_dog.speak()"
      ],
      "metadata": {
        "id": "CMF9gmgTszoL"
      },
      "execution_count": null,
      "outputs": []
    },
    {
      "cell_type": "markdown",
      "source": [
        " 2. Write a program to create an abstract class Shape with a method area(). Derive classes Circle and Rectangle\n",
        "from it and implement the area() method in both"
      ],
      "metadata": {
        "id": "bTXWuAZrtLeE"
      }
    },
    {
      "cell_type": "code",
      "source": [
        "from abc import ABC, abstractmethod\n",
        "\n",
        "\n",
        "class Shape(ABC):\n",
        "    @abstractmethod\n",
        "    def area(self):\n",
        "        pass\n",
        "\n",
        "\n",
        "class Circle(Shape):\n",
        "    def __init__(self, radius):\n",
        "        self.radius = radius\n",
        "\n",
        "    def area(self):\n",
        "        return 3.1416 * self.radius * self.radius\n",
        "\n",
        "\n",
        "class Rectangle(Shape):\n",
        "    def __init__(self, length, width):\n",
        "        self.length = length\n",
        "        self.width = width\n",
        "\n",
        "    def area(self):\n",
        "        return self.length * self.width\n",
        "\n",
        "\n",
        "circle = Circle(7)\n",
        "rectangle = Rectangle(5, 3)\n",
        "\n",
        "print(f\"Area of Circle: {circle.area():.2f}\")\n",
        "print(f\"Area of Rectangle: {rectangle.area():.2f}\")"
      ],
      "metadata": {
        "id": "-HKz1AfktPnH"
      },
      "execution_count": null,
      "outputs": []
    },
    {
      "cell_type": "markdown",
      "source": [
        " 3. Implement a multi-level inheritance scenario where a class Vehicle has an attribute type. Derive a class Car\n",
        "and further derive a class ElectricCar that adds a battery attribute"
      ],
      "metadata": {
        "id": "oIRvGZBpt4lN"
      }
    },
    {
      "cell_type": "code",
      "source": [
        "\n",
        "class Vehicle:\n",
        "    def __init__(self, vehicle_type):\n",
        "        self.vehicle_type = vehicle_type\n",
        "\n",
        "    def show_type(self):\n",
        "        print(f\"Vehicle Type: {self.vehicle_type}\")\n",
        "\n",
        "class Car(Vehicle):\n",
        "    def __init__(self, vehicle_type, brand):\n",
        "        super().__init__(vehicle_type)\n",
        "        self.brand = brand\n",
        "\n",
        "    def show_brand(self):\n",
        "        print(f\"Car Brand: {self.brand}\")\n",
        "\n",
        "\n",
        "class ElectricCar(Car):\n",
        "    def __init__(self, vehicle_type, brand, battery_capacity):\n",
        "        super().__init__(vehicle_type, brand)\n",
        "        self.battery_capacity = battery_capacity\n",
        "\n",
        "    def show_battery(self):\n",
        "        print(f\"Battery Capacity: {self.battery_capacity} kWh\")\n",
        "\n",
        "\n",
        "tesla = ElectricCar(\"Four Wheeler\", \"Tesla\", 75)\n",
        "\n",
        "tesla.show_type()       # Inherited from Vehicle\n",
        "tesla.show_brand()      # Inherited from Car\n",
        "tesla.show_battery()    # Defined in ElectricCar"
      ],
      "metadata": {
        "id": "edMvrbmPt9WN"
      },
      "execution_count": null,
      "outputs": []
    },
    {
      "cell_type": "markdown",
      "source": [
        " 4. Demonstrate polymorphism by creating a base class Bird with a method fly(). Create two derived classes\n",
        "Sparrow and Penguin that override the fly() method."
      ],
      "metadata": {
        "id": "qCbUgoQzuNyE"
      }
    },
    {
      "cell_type": "code",
      "source": [
        "\n",
        "class Bird:\n",
        "    def fly(self):\n",
        "        print(\"This bird can fly\")\n",
        "\n",
        "\n",
        "class Sparrow(Bird):\n",
        "    def fly(self):\n",
        "        print(\"Sparrow flies swiftly and gracefully\")\n",
        "\n",
        "class Penguin(Bird):\n",
        "    def fly(self):\n",
        "        print(\"Penguins can't fly, but they swim like pros\")\n",
        "\n",
        "\n",
        "birds = [Sparrow(), Penguin()]\n",
        "\n",
        "for bird in birds:\n",
        "    bird.fly()"
      ],
      "metadata": {
        "id": "jadQg_53uSbh"
      },
      "execution_count": null,
      "outputs": []
    },
    {
      "cell_type": "markdown",
      "source": [
        "5. Write a program to demonstrate encapsulation by creating a class BankAccount with private attributes\n",
        "balance and methods to deposit, withdraw, and check balance"
      ],
      "metadata": {
        "id": "s-w_4ZucueoG"
      }
    },
    {
      "cell_type": "code",
      "source": [
        "class BankAccount:\n",
        "    def __init__(self, initial_balance=0):\n",
        "        self.__balance = initial_balance\n",
        "\n",
        "    def deposit(self, amount):\n",
        "        if amount > 0:\n",
        "            self.__balance += amount\n",
        "            print(f\"Deposited ₹{amount}\")\n",
        "        else:\n",
        "            print(\"Deposit amount must be positive\")\n",
        "\n",
        "    def withdraw(self, amount):\n",
        "        if 0 < amount <= self.__balance:\n",
        "            self.__balance -= amount\n",
        "            print(f\"Withdrew ₹{amount}\")\n",
        "        else:\n",
        "            print(\"Insufficient balance or invalid amount\")\n",
        "\n",
        "    def check_balance(self):\n",
        "        print(f\"Current Balance: ₹{self.__balance}\")\n",
        "\n",
        "\n",
        "account = BankAccount(1000)\n",
        "account.check_balance()\n",
        "account.deposit(500)\n",
        "account.withdraw(2000)\n",
        "account.withdraw(300)\n",
        "account.check_balance()"
      ],
      "metadata": {
        "id": "rzTWyWc_ufTo"
      },
      "execution_count": null,
      "outputs": []
    },
    {
      "cell_type": "markdown",
      "source": [
        " 6. Demonstrate runtime polymorphism using a method play() in a base class Instrument. Derive classes Guitar\n",
        "and Piano that implement their own version of play()."
      ],
      "metadata": {
        "id": "qPEoZUMIuujv"
      }
    },
    {
      "cell_type": "code",
      "source": [
        "\n",
        "class Instrument:\n",
        "    def play(self):\n",
        "        print(\"Playing an instrument\")\n",
        "\n",
        "class Guitar(Instrument):\n",
        "    def play(self):\n",
        "        print(\"Strumming the guitar 🎸\")\n",
        "\n",
        "\n",
        "class Piano(Instrument):\n",
        "    def play(self):\n",
        "        print(\"Playing the piano 🎹\")\n",
        "\n",
        "\n",
        "def perform(instrument):\n",
        "    instrument.play()\n",
        "\n",
        "\n",
        "instruments = [Guitar(), Piano()]\n",
        "\n",
        "for inst in instruments:\n",
        "    perform(inst)"
      ],
      "metadata": {
        "id": "tua5TPnWuvXD"
      },
      "execution_count": null,
      "outputs": []
    },
    {
      "cell_type": "markdown",
      "source": [
        " 7. Create a class MathOperations with a class method add_numbers() to add two numbers and a static\n",
        "method subtract_numbers() to subtract two numbers."
      ],
      "metadata": {
        "id": "PgqYBL8zu4ot"
      }
    },
    {
      "cell_type": "code",
      "source": [
        "class MathOperations:\n",
        "    @classmethod\n",
        "    def add_numbers(cls, a, b):\n",
        "        return a + b\n",
        "\n",
        "    @staticmethod\n",
        "    def subtract_numbers(a, b):\n",
        "        return a - b\n",
        "\n",
        "\n",
        "sum_result = MathOperations.add_numbers(10, 5)\n",
        "diff_result = MathOperations.subtract_numbers(10, 5)\n",
        "\n",
        "print(f\"Sum: {sum_result}\")\n",
        "print(f\"Difference: {diff_result}\")"
      ],
      "metadata": {
        "id": "4MV6gAi1vIpV"
      },
      "execution_count": null,
      "outputs": []
    },
    {
      "cell_type": "markdown",
      "source": [
        " 8. Implement a class Person with a class method to count the total number of persons created"
      ],
      "metadata": {
        "id": "ooIVd6lcvNtk"
      }
    },
    {
      "cell_type": "code",
      "source": [
        "class Person:\n",
        "    count = 0\n",
        "\n",
        "    def __init__(self, name):\n",
        "        self.name = name\n",
        "        Person.count += 1\n",
        "\n",
        "    @classmethod\n",
        "    def total_persons(cls):\n",
        "        print(f\"Total Persons Created: {cls.count}\")\n",
        "\n",
        "p1 = Person(\"Kartikesh\")\n",
        "p2 = Person(\"Aarav\")\n",
        "p3 = Person(\"Meera\")\n",
        "\n",
        "Person.total_persons()"
      ],
      "metadata": {
        "colab": {
          "base_uri": "https://localhost:8080/"
        },
        "id": "6HvfRyBfvQLV",
        "outputId": "103c7bfe-44c6-4bdc-ed44-c487fab564bf"
      },
      "execution_count": 1,
      "outputs": [
        {
          "output_type": "stream",
          "name": "stdout",
          "text": [
            "Total Persons Created: 3\n"
          ]
        }
      ]
    },
    {
      "cell_type": "markdown",
      "source": [
        " 9. Write a class Fraction with attributes numerator and denominator. Override the str method to display the\n",
        "fraction as \"numerator/denominator\""
      ],
      "metadata": {
        "id": "TymQzVzavvdH"
      }
    },
    {
      "cell_type": "code",
      "source": [
        "class Fraction:\n",
        "    def __init__(self, numerator, denominator):\n",
        "        self.numerator = numerator\n",
        "        self.denominator = denominator\n",
        "\n",
        "    def __str__(self):\n",
        "        return f\"{self.numerator}/{self.denominator}\"\n",
        "\n",
        "\n",
        "f1 = Fraction(3, 4)\n",
        "f2 = Fraction(7, 2)\n",
        "\n",
        "print(f\"Fraction 1: {f1}\")\n",
        "print(f\"Fraction 2: {f2}\")"
      ],
      "metadata": {
        "id": "JlriJ2SEv4or"
      },
      "execution_count": null,
      "outputs": []
    },
    {
      "cell_type": "markdown",
      "source": [
        " 10. Demonstrate operator overloading by creating a class Vector and overriding the add method to add two\n",
        "vectors."
      ],
      "metadata": {
        "id": "8F2GqC4VwCI-"
      }
    },
    {
      "cell_type": "code",
      "source": [
        "class Vector:\n",
        "    def __init__(self, x, y):\n",
        "        self.x = x\n",
        "        self.y = y\n",
        "\n",
        "    def __add__(self, other):\n",
        "        if isinstance(other, Vector):\n",
        "            return Vector(self.x + other.x, self.y + other.y)\n",
        "        raise TypeError(\"Operands must be of type Vector\")\n",
        "\n",
        "    def __str__(self):\n",
        "        return f\"({self.x}, {self.y})\"\n",
        "\n",
        "\n",
        "v1 = Vector(2, 3)\n",
        "v2 = Vector(4, 5)\n",
        "v3 = v1 + v2\n",
        "\n",
        "print(f\"Vector 1: {v1}\")\n",
        "print(f\"Vector 2: {v2}\")\n",
        "print(f\"Sum: {v3}\")"
      ],
      "metadata": {
        "id": "MfsZaAVpwHsz"
      },
      "execution_count": null,
      "outputs": []
    },
    {
      "cell_type": "markdown",
      "source": [
        " 11. Create a class Person with attributes name and age. Add a method greet() that prints \"Hello, my name is\n",
        "{name} and I am {age} years old.\""
      ],
      "metadata": {
        "id": "AwagPu1AwMvw"
      }
    },
    {
      "cell_type": "code",
      "source": [
        "class Person:\n",
        "    def __init__(self, name, age):\n",
        "        self.name = name\n",
        "        self.age = age\n",
        "\n",
        "    def greet(self):\n",
        "        print(f\"Hello, my name is {self.name} and I am {self.age} years old.\")\n",
        "\n",
        "\n",
        "p1 = Person(\"Kartikesh\", 30)\n",
        "p1.greet()"
      ],
      "metadata": {
        "id": "hw95vM9OwQm-"
      },
      "execution_count": null,
      "outputs": []
    },
    {
      "cell_type": "markdown",
      "source": [
        " 12. Implement a class Student with attributes name and grades. Create a method average_grade() to compute\n",
        "the average of the grades"
      ],
      "metadata": {
        "id": "LB1SGJ9pwX7p"
      }
    },
    {
      "cell_type": "code",
      "source": [
        "class Student:\n",
        "    def __init__(self, name, grades):\n",
        "        self.name = name\n",
        "        self.grades = grades\n",
        "    def average_grade(self):\n",
        "        if not self.grades:\n",
        "            return 0\n",
        "        return sum(self.grades) / len(self.grades)\n",
        "\n",
        "s1 = Student(\"Kartikesh\", [85, 90, 78, 92])\n",
        "s2 = Student(\"Meera\", [88, 76, 95])\n",
        "\n",
        "print(f\"{s1.name}'s Average Grade: {s1.average_grade():.2f}\")\n",
        "print(f\"{s2.name}'s Average Grade: {s2.average_grade():.2f}\")"
      ],
      "metadata": {
        "id": "o6xtSWjRwhiB"
      },
      "execution_count": null,
      "outputs": []
    },
    {
      "cell_type": "markdown",
      "source": [
        "13. Create a class Rectangle with methods set_dimensions() to set the dimensions and area() to calculate the\n",
        "area"
      ],
      "metadata": {
        "id": "hv8D7Ikqwj8b"
      }
    },
    {
      "cell_type": "code",
      "source": [
        "class Rectangle:\n",
        "    def __init__(self):\n",
        "        self.length = 0\n",
        "        self.width = 0\n",
        "\n",
        "    def set_dimensions(self, length, width):\n",
        "        self.length = length\n",
        "        self.width = width\n",
        "\n",
        "    def area(self):\n",
        "        return self.length * self.width\n",
        "\n",
        "\n",
        "rect = Rectangle()\n",
        "rect.set_dimensions(5, 3)\n",
        "print(f\"Area of Rectangle: {rect.area()}\")"
      ],
      "metadata": {
        "id": "s45wRpSFwmaP"
      },
      "execution_count": null,
      "outputs": []
    },
    {
      "cell_type": "markdown",
      "source": [
        " 14. Create a class Employee with a method calculate_salary() that computes the salary based on hours worked\n",
        "and hourly rate. Create a derived class Manager that adds a bonus to the salary"
      ],
      "metadata": {
        "id": "9WT4mNl4wvtE"
      }
    },
    {
      "cell_type": "code",
      "source": [
        "\n",
        "class Employee:\n",
        "    def __init__(self, name, hours_worked, hourly_rate):\n",
        "        self.name = name\n",
        "        self.hours_worked = hours_worked\n",
        "        self.hourly_rate = hourly_rate\n",
        "\n",
        "    def calculate_salary(self):\n",
        "        return self.hours_worked * self.hourly_rate\n",
        "\n",
        "\n",
        "class Manager(Employee):\n",
        "    def __init__(self, name, hours_worked, hourly_rate, bonus):\n",
        "        super().__init__(name, hours_worked, hourly_rate)\n",
        "        self.bonus = bonus\n",
        "\n",
        "    def calculate_salary(self):\n",
        "        base_salary = super().calculate_salary()\n",
        "        return base_salary + self.bonus\n",
        "\n",
        "\n",
        "emp = Employee(\"Aarav\", 40, 500)\n",
        "mgr = Manager(\"Kartikesh\", 40, 500, 10000)\n",
        "\n",
        "print(f\"{emp.name}'s Salary: ₹{emp.calculate_salary()}\")\n",
        "print"
      ],
      "metadata": {
        "id": "TqoLF0Gywwdt"
      },
      "execution_count": null,
      "outputs": []
    },
    {
      "cell_type": "markdown",
      "source": [
        "15. Create a class Product with attributes name, price, and quantity. Implement a method total_price() that\n",
        "calculates the total price of the product"
      ],
      "metadata": {
        "id": "0ccargeyxIAC"
      }
    },
    {
      "cell_type": "code",
      "source": [
        "class Product:\n",
        "    def __init__(self, name, price, quantity):\n",
        "        self.name = name\n",
        "        self.price = price\n",
        "        self.quantity = quantity\n",
        "\n",
        "    def total_price(self):\n",
        "        return self.price * self.quantity\n",
        "\n",
        "\n",
        "p1 = Product(\"Laptop\", 55000, 2)\n",
        "p2 = Product(\"Mouse\", 500, 3)\n",
        "\n",
        "print(f\"Total price for {p1.name}: ₹{p1.total_price()}\")\n",
        "print(f\"Total price for {p2.name}: ₹{p2.total_price()}\")"
      ],
      "metadata": {
        "id": "Fy6yRQF8xI4P"
      },
      "execution_count": null,
      "outputs": []
    },
    {
      "cell_type": "markdown",
      "source": [
        " 16. Create a class Animal with an abstract method sound(). Create two derived classes Cow and Sheep that\n",
        "implement the sound() method."
      ],
      "metadata": {
        "id": "l6HoOUETxRkM"
      }
    },
    {
      "cell_type": "code",
      "source": [
        "from abc import ABC, abstractmethod\n",
        "\n",
        "\n",
        "class Animal(ABC):\n",
        "    @abstractmethod\n",
        "    def sound(self):\n",
        "        pass\n",
        "\n",
        "class Cow(Animal):\n",
        "    def sound(self):\n",
        "        print(\"Cow says Moo 🐄\")\n",
        "\n",
        "\n",
        "class Sheep(Animal):\n",
        "    def sound(self):\n",
        "        print(\"Sheep says Baa 🐑\")\n",
        "\n",
        "animals = [Cow(), Sheep()]\n",
        "\n",
        "for animal in animals:\n",
        "    animal.sound()"
      ],
      "metadata": {
        "colab": {
          "base_uri": "https://localhost:8080/"
        },
        "id": "j3382USfxSX1",
        "outputId": "3a592d5b-3e72-413a-a674-59111fd4da99"
      },
      "execution_count": 2,
      "outputs": [
        {
          "output_type": "stream",
          "name": "stdout",
          "text": [
            "Cow says Moo 🐄\n",
            "Sheep says Baa 🐑\n"
          ]
        }
      ]
    },
    {
      "cell_type": "markdown",
      "source": [
        " 17. Create a class Book with attributes title, author, and year_published. Add a method get_book_info() that\n",
        "returns a formatted string with the book's details."
      ],
      "metadata": {
        "id": "Z3GzrnaHxjkE"
      }
    },
    {
      "cell_type": "code",
      "source": [
        "class Book:\n",
        "    def __init__(self, title, author, year_published):\n",
        "        self.title = title\n",
        "        self.author = author\n",
        "        self.year_published = year_published\n",
        "\n",
        "    def get_book_info(self):\n",
        "        return f\"'{self.title}' by {self.author}, published in {self.year_published}\"\n",
        "\n",
        "\n",
        "book1 = Book(\"The Alchemist\", \"Paulo Coelho\", 1988)\n",
        "book2 = Book(\"Sapiens\", \"Yuval Noah Harari\", 2011)\n",
        "\n",
        "print(book1.get_book_info())\n",
        "print(book2.get_book_info())"
      ],
      "metadata": {
        "id": "ruckGgUwxn8i"
      },
      "execution_count": null,
      "outputs": []
    },
    {
      "cell_type": "markdown",
      "source": [
        " 18. Create a class House with attributes address and price. Create a derived class Mansion that adds an\n",
        "attribute number_of_rooms"
      ],
      "metadata": {
        "id": "yyfo3eHgxpzF"
      }
    },
    {
      "cell_type": "code",
      "source": [
        "\n",
        "class House:\n",
        "    def __init__(self, address, price):\n",
        "        self.address = address\n",
        "        self.price = price\n",
        "\n",
        "    def get_info(self):\n",
        "        return f\"Address: {self.address}, Price: ₹{self.price}\"\n",
        "\n",
        "\n",
        "class Mansion(House):\n",
        "    def __init__(self, address, price, number_of_rooms):\n",
        "        super().__init__(address, price)\n",
        "        self.number_of_rooms = number_of_rooms\n",
        "\n",
        "    def get_info(self):\n",
        "        base_info = super().get_info()\n",
        "        return f\"{base_info}, Rooms: {self.number_of_rooms}\"\n",
        "\n",
        "\n",
        "m1 = Mansion(\"Palm Grove, Mumbai\", 250000000, 12)\n",
        "print(m1.get_info())"
      ],
      "metadata": {
        "id": "AVkFkRC-xuAq"
      },
      "execution_count": null,
      "outputs": []
    }
  ]
}